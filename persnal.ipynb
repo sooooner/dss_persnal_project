{
 "cells": [
  {
   "cell_type": "code",
   "execution_count": null,
   "metadata": {
    "collapsed": true
   },
   "outputs": [],
   "source": [
    "import numpy as np\n",
    "import pandas as pd\n",
    "import matplotlib.pylab as plt\n",
    "import seaborn as sns\n",
    "from pprint import pprint"
   ]
  },
  {
   "cell_type": "markdown",
   "metadata": {
    "collapsed": true
   },
   "source": [
    "# 판매량을 예측할수 있을까?"
   ]
  },
  {
   "cell_type": "markdown",
   "metadata": {
    "collapsed": true
   },
   "source": [
    "### 판매량에 영향을 끼칠수 있는 변수는 무었이 있을까?\n",
    "+ 가수 정보\n",
    "    + 대중 관심도 \n",
    "        + 검색량 : 네이버, 구글, 유튜브 검색량\n",
    "        + 선호도 : 댓글, 트위터 분석\n",
    "    + 팬\n",
    "        + 수 : 멜론 팬\n",
    "        + 성별 : 비율\n",
    "        + 연령 : 비율\n",
    "    + 소속사\n",
    "+ 노래 정보\n",
    "    + 대중 관심도\n",
    "        + 검색량 : 네이버, 구글, 유튜브 검색량\n",
    "        + 선호도 : 댓글, 트위터 분석, 멜론 좋아요수\n",
    "    + 타이틀\n",
    "    + 장르\n",
    "+ 대중매체 노출도\n",
    "    + ???"
   ]
  },
  {
   "cell_type": "markdown",
   "metadata": {
    "collapsed": true
   },
   "source": [
    "### 가수들이 너무 많음\n",
    "+ 노래를 제한하자"
   ]
  },
  {
   "cell_type": "code",
   "execution_count": null,
   "metadata": {
    "collapsed": true
   },
   "outputs": [],
   "source": []
  },
  {
   "cell_type": "code",
   "execution_count": null,
   "metadata": {
    "collapsed": true
   },
   "outputs": [],
   "source": []
  },
  {
   "cell_type": "code",
   "execution_count": null,
   "metadata": {
    "collapsed": true
   },
   "outputs": [],
   "source": []
  },
  {
   "cell_type": "markdown",
   "metadata": {
    "collapsed": true
   },
   "source": [
    "# 가온차트 & 멜론 크롤링"
   ]
  },
  {
   "cell_type": "code",
   "execution_count": null,
   "metadata": {
    "collapsed": true
   },
   "outputs": [],
   "source": [
    "import requests\n",
    "from bs4 import BeautifulSoup\n",
    "import pandas as pd\n",
    "import numpy as np\n",
    "import re\n",
    "\n",
    "response_download = requests.get(\"http://www.gaonchart.co.kr/main/section/chart/online.gaon?nationGbn=T&serviceGbn=S1020&targetTime=02&hitYear=2016&termGbn=week\" ) \n",
    "response_social =   requests.get(\"http://www.gaonchart.co.kr/main/section/chart/social.gaon?nationGbn=S&serviceGbn=&targetTime=02&hitYear=2016&termGbn=week\" ) \n",
    "\n",
    "soup_download = BeautifulSoup(response_download.content.decode('utf-8'), 'html.parser')\n",
    "soup_social = BeautifulSoup(response_social.content.decode('utf-8'), 'html.parser')\n",
    "\n",
    "titles_download = soup_download.select('tr p')\n",
    "titles_social = soup_social.select('tr p')\n",
    "counts = soup_social.select('td.count')"
   ]
  },
  {
   "cell_type": "code",
   "execution_count": null,
   "metadata": {
    "collapsed": true
   },
   "outputs": [],
   "source": [
    "download = [titles_download[i].text for i in range(500)]\n",
    "social = [titles_social[i].text for i in range(400)]\n",
    "count = [counts[i].text for i in range(100)]"
   ]
  },
  {
   "cell_type": "code",
   "execution_count": null,
   "metadata": {
    "collapsed": true
   },
   "outputs": [],
   "source": [
    "columns_download = ['Title', 'Artist/album', 'Download', 'Production', 'Distribution']\n",
    "df_download = pd.DataFrame(np.array(download).reshape((100,5)), index=range(1,100+1), columns = columns_download)\n",
    "df_download.insert(loc=list(df_download).index('Title')+1 ,column='Artist', value=df_download.loc[:,'Artist/album'].apply(lambda x: x.split('|')[0]))\n",
    "df_download.insert(loc=list(df_download).index('Artist')+1 ,column='album', value=df_download.loc[:,'Artist/album'].apply(lambda x: x.split('|')[1]))\n",
    "df_download.__delitem__('Artist/album')"
   ]
  },
  {
   "cell_type": "code",
   "execution_count": null,
   "metadata": {
    "collapsed": true
   },
   "outputs": [],
   "source": [
    "columns_social = ['Title', 'Artist', 'Production', 'Distribution']\n",
    "df_social = pd.DataFrame(np.array(social).reshape((100,4)), index=range(1,100+1), columns = columns_social)\n",
    "df_social.loc[:, 'Artist'] = df_social.loc[:, 'Artist'].apply(lambda x: x.split('|')[0])\n",
    "df_social.insert(loc=list(df_social).index('Artist')+1 ,column='count', value=count)\n",
    "df_social.__delitem__('Distribution')"
   ]
  },
  {
   "cell_type": "code",
   "execution_count": null,
   "metadata": {
    "collapsed": true
   },
   "outputs": [],
   "source": [
    "df_download.loc[:, 'Artist'] = df_download.loc[:, 'Artist'].apply(lambda x: re.sub('★', '', x))\n",
    "df_download.loc[:, 'Artist'] = df_download.loc[:, 'Artist'].apply(lambda x: re.sub(' ?\\(.+?\\)', '', x)).apply(lambda x: re.sub(' X ', ', ', x)).apply(lambda x: x.split(', '))"
   ]
  },
  {
   "cell_type": "code",
   "execution_count": null,
   "metadata": {
    "collapsed": true
   },
   "outputs": [],
   "source": [
    "df_download"
   ]
  },
  {
   "cell_type": "code",
   "execution_count": null,
   "metadata": {
    "collapsed": true
   },
   "outputs": [],
   "source": [
    "import itertools\n",
    "singer_list = list(set(itertools.chain(*df_download.loc[:, 'Artist'])))\n",
    "singer_list[singer_list.index('f')] = 'f(x)'"
   ]
  },
  {
   "cell_type": "code",
   "execution_count": null,
   "metadata": {
    "collapsed": true
   },
   "outputs": [],
   "source": [
    "from selenium import webdriver\n",
    "\n",
    "chromedriver = 'C:/dev_python/Webdriver/chromedriver.exe' \n",
    "driver = webdriver.Chrome(chromedriver)\n",
    "\n",
    "singer_fan = {}\n",
    "\n",
    "for singer_el in singer_list:\n",
    "    artist_url = \"http://www.melon.com/search/artist/index.htm?q={}&section=&searchGnbYn=Y&kkoSpl=Y&kkoDpType=&ipath=srch_form\"\n",
    "    driver.get(artist_url.format(singer_el))\n",
    "    fan_count = driver.find_element_by_css_selector('div.atist_info > dl > dd > span.cnt_fan > span')\n",
    "    \n",
    "    singer_fan[singer_el] =  int(re.sub(',', '', fan_count.text))\n",
    "driver.quit()"
   ]
  },
  {
   "cell_type": "code",
   "execution_count": null,
   "metadata": {
    "collapsed": true
   },
   "outputs": [],
   "source": [
    "singer_list"
   ]
  },
  {
   "cell_type": "code",
   "execution_count": null,
   "metadata": {
    "collapsed": true
   },
   "outputs": [],
   "source": [
    "singer_fan['f(x)']"
   ]
  },
  {
   "cell_type": "code",
   "execution_count": null,
   "metadata": {
    "collapsed": true
   },
   "outputs": [],
   "source": [
    "Artist_fan = df_download.loc[:, 'Artist'].apply(lambda x: sum([singer_fan[a] if a=='f' for a in x]))"
   ]
  },
  {
   "cell_type": "code",
   "execution_count": null,
   "metadata": {
    "collapsed": true
   },
   "outputs": [],
   "source": [
    "df_download.insert(loc=list(df_download).index('Artist')+1 ,column='Artist_fan', value=Artist_fan)"
   ]
  },
  {
   "cell_type": "markdown",
   "metadata": {},
   "source": [
    "# 네이버 데이터랩"
   ]
  },
  {
   "cell_type": "code",
   "execution_count": null,
   "metadata": {
    "collapsed": true
   },
   "outputs": [],
   "source": [
    "#-*- coding: utf-8 -*-\n",
    "import os\n",
    "import sys\n",
    "import urllib.request\n",
    "client_id = 'bHdSL0QqLlouTVx4ruLr'\n",
    "client_secret = '7ZqBvDGPWl'\n",
    "url = \"https://openapi.naver.com/v1/datalab/search\"\n",
    "body = \"{\\\"startDate\\\":\\\"2016-01-01\\\",\\\"endDate\\\":\\\"2017-11-30\\\",\\\"timeUnit\\\":\\\"week\\\",\\\"keywordGroups\\\":[{\\\"groupName\\\":\\\"한글\\\",\\\"keywords\\\":[\\\"한글\\\",\\\"korean\\\"]},{\\\"groupName\\\":\\\"영어\\\",\\\"keywords\\\":[\\\"영어\\\",\\\"english\\\"]}],\\\"device\\\":\\\"pc\\\",\\\"ages\\\":[\\\"1\\\",\\\"2\\\"],\\\"gender\\\":\\\"f\\\"}\"\n",
    "\n",
    "request = urllib.request.Request(url)\n",
    "request.add_header(\"X-Naver-Client-Id\",client_id)\n",
    "request.add_header(\"X-Naver-Client-Secret\",client_secret)\n",
    "request.add_header(\"Content-Type\",\"application/json\")\n",
    "response = urllib.request.urlopen(request, data=body.encode(\"utf-8\"))\n",
    "rescode = response.getcode()\n",
    "if(rescode==200):\n",
    "    response_body = response.read()\n",
    "    print(response_body.decode('utf-8'))\n",
    "else:\n",
    "    print(\"Error Code:\" + rescode)"
   ]
  },
  {
   "cell_type": "code",
   "execution_count": null,
   "metadata": {
    "collapsed": true
   },
   "outputs": [],
   "source": []
  },
  {
   "cell_type": "code",
   "execution_count": null,
   "metadata": {
    "collapsed": true
   },
   "outputs": [],
   "source": []
  },
  {
   "cell_type": "code",
   "execution_count": null,
   "metadata": {
    "collapsed": true
   },
   "outputs": [],
   "source": []
  },
  {
   "cell_type": "code",
   "execution_count": null,
   "metadata": {
    "collapsed": true
   },
   "outputs": [],
   "source": []
  },
  {
   "cell_type": "code",
   "execution_count": null,
   "metadata": {
    "collapsed": true
   },
   "outputs": [],
   "source": []
  },
  {
   "cell_type": "code",
   "execution_count": null,
   "metadata": {
    "collapsed": true
   },
   "outputs": [],
   "source": []
  },
  {
   "cell_type": "markdown",
   "metadata": {},
   "source": [
    "# 주제 변경!"
   ]
  },
  {
   "cell_type": "markdown",
   "metadata": {},
   "source": [
    "### 클러스터링을 해보자"
   ]
  },
  {
   "cell_type": "markdown",
   "metadata": {},
   "source": [
    "+ 가수, 노래, 앨범"
   ]
  },
  {
   "cell_type": "markdown",
   "metadata": {},
   "source": [
    "### 앨범 불러오기"
   ]
  },
  {
   "cell_type": "code",
   "execution_count": 2,
   "metadata": {
    "collapsed": true
   },
   "outputs": [],
   "source": [
    "import requests\n",
    "from bs4 import BeautifulSoup\n",
    "import pandas as pd\n",
    "import numpy as np\n",
    "import re\n",
    "# 2 ~ 53, 1~ 48\n",
    "\n",
    "album_df = pd.DataFrame(columns=['album'])\n",
    "for i in range(1, 48+1):\n",
    "    response = requests.get(\"http://www.gaonchart.co.kr/main/section/chart/online.gaon?nationGbn=T&serviceGbn=S1020&targetTime={}&hitYear=2017&termGbn=week\".format(i)) \n",
    "    soup = BeautifulSoup(response.content.decode('utf-8'), 'html.parser')\n",
    "    album = soup.select('tr p.singer')\n",
    "    album_df_temp = pd.DataFrame({'singer': [j.text.split('|')[0] for j in album], 'album' : [j.text.split('|')[1] for j in album]})\n",
    "    album_df = pd.concat([album_df, album_df_temp])"
   ]
  },
  {
   "cell_type": "code",
   "execution_count": 3,
   "metadata": {
    "collapsed": true
   },
   "outputs": [],
   "source": [
    "album_df = album_df.drop_duplicates(['album', 'singer'])"
   ]
  },
  {
   "cell_type": "code",
   "execution_count": 4,
   "metadata": {
    "collapsed": true
   },
   "outputs": [],
   "source": [
    "import itertools\n",
    "album_list = list(set(itertools.chain(album_df.loc[:,'album'])))\n",
    "album_list = list(set(itertools.chain(*[i.split(', ') for i in album_list])))"
   ]
  },
  {
   "cell_type": "code",
   "execution_count": 5,
   "metadata": {
    "collapsed": true
   },
   "outputs": [],
   "source": [
    "album_df1 = pd.DataFrame()\n",
    "album_df1['album'] = album_df.loc[:, 'album'].apply(lambda x: re.sub(' ?\\(.+?\\)', '', x))\n",
    "album_df1['singer'] = album_df.loc[:, 'singer'].apply(lambda x: re.sub(' ?\\(.+?\\)', '', x)).apply(lambda x: re.sub(' X ', ', ', x)).apply(lambda x: x.split(', '))"
   ]
  },
  {
   "cell_type": "markdown",
   "metadata": {},
   "source": [
    "### 앨범의 번호를 긁어오자"
   ]
  },
  {
   "cell_type": "code",
   "execution_count": 6,
   "metadata": {
    "collapsed": true
   },
   "outputs": [],
   "source": [
    "from bs4 import BeautifulSoup\n",
    "\n",
    "naver_list = []\n",
    "for i in range(len(album_df1)):\n",
    "    url = 'http://music.naver.com/search/search.nhn?query={} {}&x=0&y=0'.\\\n",
    "           format(album_df1.iloc[i,:][0], album_df1.iloc[i,:][1][0])\n",
    "    response = requests.get(url) \n",
    "    soup = BeautifulSoup(response.content.decode('utf-8'), 'html.parser')\n",
    "\n",
    "    album_num = soup.select('table > tbody > tr > td.album > a')\n",
    "    if len(album_num) != 0:\n",
    "        naver_list.append(re.search(r'i:([0-9]*)', str(album_num[0])).group(1))\n",
    "    else:\n",
    "        naver_list.append(None)"
   ]
  },
  {
   "cell_type": "code",
   "execution_count": 7,
   "metadata": {
    "collapsed": true
   },
   "outputs": [],
   "source": [
    "album_df['naver'] = naver_list"
   ]
  },
  {
   "cell_type": "code",
   "execution_count": 43,
   "metadata": {},
   "outputs": [],
   "source": [
    "melon_list = []\n",
    "for i in range(len(album_df1)):\n",
    "    url = 'http://www.melon.com/search/total/index.htm?q={} {}&section=&searchGnbYn=Y&kkoSpl=N&kkoDpType=&ipath=srch_form'.\\\n",
    "           format(album_df1.iloc[i,:][0], album_df1.iloc[i,:][1][0])\n",
    "    response = requests.get(url) \n",
    "    soup = BeautifulSoup(response.content.decode('utf-8'), 'html.parser')\n",
    "\n",
    "    album_num = soup.select('tbody > tr > td > div.wrap > div.ellipsis > a.fc_mgray')\n",
    "\n",
    "    if len(album_num) != 0:\n",
    "        melon_list.append(re.search(r'goAlbumDetail\\(\\'([0-9]*)\\'', str(album_num)).group(1))\n",
    "    else:\n",
    "        melon_list.append(None)"
   ]
  },
  {
   "cell_type": "code",
   "execution_count": null,
   "metadata": {
    "collapsed": true
   },
   "outputs": [],
   "source": [
    "# album_df.__delitem__('melon')"
   ]
  },
  {
   "cell_type": "code",
   "execution_count": null,
   "metadata": {
    "collapsed": true
   },
   "outputs": [],
   "source": [
    "album_df.insert(loc=list(album_df).index('naver')+1 ,column='melon', value=melon_list)"
   ]
  },
  {
   "cell_type": "code",
   "execution_count": 12,
   "metadata": {
    "collapsed": true
   },
   "outputs": [],
   "source": [
    "from selenium import webdriver\n",
    "import time\n",
    "\n",
    "chromedriver = 'C:/dev_python/Webdriver/chromedriver.exe' \n",
    "driver = webdriver.Chrome(chromedriver)\n",
    "\n",
    "Mnet_list = []\n",
    "for i in range(len(album_df1)):\n",
    "    url = 'http://search.mnet.com/search/index.asp?q={} {}'.format(album_df1.iloc[i,:][0], album_df1.iloc[i,:][1][0])\n",
    "    driver.get(url)\n",
    "    soup = BeautifulSoup(driver.page_source, 'html.parser')\n",
    "    album_num = soup.select('tbody > tr > td.MMLItemAlbum > div > a')[0]\n",
    "    if len(album_num) != 0:\n",
    "        Mnet_list.append(re.search(r'http://www.mnet.com/album/([0-9]*)', str(album_num)).group(1))\n",
    "    else:\n",
    "        Mnet_list.append(None)\n",
    "        print(i)\n",
    "driver.quit()"
   ]
  },
  {
   "cell_type": "code",
   "execution_count": 13,
   "metadata": {},
   "outputs": [],
   "source": [
    "album_df.insert(loc=list(album_df).index('melon')+1 ,column='Mnet', value=Mnet_list)"
   ]
  },
  {
   "cell_type": "code",
   "execution_count": 51,
   "metadata": {
    "collapsed": true
   },
   "outputs": [],
   "source": [
    "album_df4 = album_df.drop_duplicates(['album'])"
   ]
  },
  {
   "cell_type": "code",
   "execution_count": 52,
   "metadata": {
    "collapsed": true
   },
   "outputs": [],
   "source": [
    "album_df5 = album_df4.loc[:, ['album', 'naver', 'melon', 'Mnet']].dropna(axis=0, how='any').copy()"
   ]
  },
  {
   "cell_type": "code",
   "execution_count": 53,
   "metadata": {
    "collapsed": true
   },
   "outputs": [],
   "source": [
    "album_df5.set_index(np.arange(len(album_df5)), inplace=True)"
   ]
  },
  {
   "cell_type": "code",
   "execution_count": 55,
   "metadata": {
    "collapsed": true
   },
   "outputs": [],
   "source": [
    "album_df5.to_csv('album_df5.csv', index=False, encoding='utf8')"
   ]
  },
  {
   "cell_type": "code",
   "execution_count": null,
   "metadata": {
    "collapsed": true
   },
   "outputs": [],
   "source": []
  },
  {
   "cell_type": "code",
   "execution_count": 60,
   "metadata": {
    "collapsed": true
   },
   "outputs": [],
   "source": [
    "album_df6 = pd.read_csv('./album_df5.csv')"
   ]
  },
  {
   "cell_type": "markdown",
   "metadata": {},
   "source": [
    "### 앨범 정보 불러오기"
   ]
  },
  {
   "cell_type": "markdown",
   "metadata": {},
   "source": [
    "+ Mnet"
   ]
  },
  {
   "cell_type": "code",
   "execution_count": 93,
   "metadata": {},
   "outputs": [],
   "source": [
    "album_info = [[] for i in range(5+1)]\n",
    "\n",
    "for i in range(len(album_df6)):\n",
    "    url = 'http://www.mnet.com/album/{}'.format(album_df6.loc[i,'Mnet'])\n",
    "    response = requests.get(url) \n",
    "    soup = BeautifulSoup(response.content.decode('utf-8'), 'html.parser')\n",
    "\n",
    "    album_num = soup.select('div.a_info_cont > dl > dd > p > span')\n",
    "    \n",
    "\n",
    "    if len(album_num)==12:\n",
    "        [album_info[j].append(info.text) for j, info in enumerate(album_num[1:len(album_num):2])]\n",
    "    else:\n",
    "        if album_num[-2].text == '기획사':\n",
    "            [album_info[j].append(info.text) for j, info in enumerate(album_num[1:len(album_num):2])]\n",
    "            [album_info[j].append(None) for j in list(range(len(album_num)//2,6))]\n",
    "        else :\n",
    "            [album_info[j].append(info.text) for j, info in enumerate(album_num[1:8:2])]\n",
    "            album_info[4].append(None)\n",
    "            album_info[5].append(album_num[-1].text)"
   ]
  },
  {
   "cell_type": "code",
   "execution_count": 94,
   "metadata": {},
   "outputs": [],
   "source": [
    "for i, column in enumerate(['singer', 'Release_Date', 'Album_type', 'Music_genre', 'Agency', 'Distributor']):\n",
    "    album_df6[column] = album_info[i]"
   ]
  },
  {
   "cell_type": "code",
   "execution_count": null,
   "metadata": {
    "collapsed": true
   },
   "outputs": [],
   "source": []
  },
  {
   "cell_type": "code",
   "execution_count": 96,
   "metadata": {
    "collapsed": true
   },
   "outputs": [],
   "source": [
    "album_df6.to_csv('album_df6.csv', index=False, encoding='utf8')"
   ]
  },
  {
   "cell_type": "code",
   "execution_count": 144,
   "metadata": {
    "collapsed": true
   },
   "outputs": [],
   "source": [
    "album_df7 = pd.read_csv('./album_df6.csv')"
   ]
  },
  {
   "cell_type": "markdown",
   "metadata": {},
   "source": [
    "# 댓글을 가져오자!"
   ]
  },
  {
   "cell_type": "markdown",
   "metadata": {},
   "source": [
    "+ 네이버"
   ]
  },
  {
   "cell_type": "code",
   "execution_count": null,
   "metadata": {},
   "outputs": [],
   "source": [
    "chromedriver = 'C:/dev_python/Webdriver/chromedriver.exe' \n",
    "driver = webdriver.Chrome(chromedriver)\n",
    "\n",
    "comments_list = []\n",
    "i = 0\n",
    "url = 'http://music.naver.com/album/index.nhn?albumId={}'.format(album_df6.loc[i,'naver'])\n",
    "driver.get(url)\n",
    "\n",
    "for page in range(2,5):\n",
    "    soup = BeautifulSoup(driver.page_source, 'html.parser')\n",
    "    comments = soup.select('#comment_focus > li > div > div > p')\n",
    "    for comment in comments:\n",
    "        comments_list.append(comment.text)\n",
    "    next_selector = '#cbox_module > div.cbox_paginate > a.N\\3d a\\3a CML\\2e page\\2c r\\3a {}'.format(page)\n",
    "    next_Button = driver.find_element_by_css_selector(next_selector)   \n",
    "    next_Button.click()  \n",
    "\n",
    "time.sleep(3)\n",
    "driver.quit()"
   ]
  },
  {
   "cell_type": "code",
   "execution_count": null,
   "metadata": {
    "collapsed": true
   },
   "outputs": [],
   "source": []
  },
  {
   "cell_type": "markdown",
   "metadata": {},
   "source": [
    "+ Mnet"
   ]
  },
  {
   "cell_type": "code",
   "execution_count": null,
   "metadata": {
    "collapsed": true
   },
   "outputs": [],
   "source": [
    "for page in range(2,5):\n",
    "    soup = BeautifulSoup(driver.page_source, 'html.parser')\n",
    "    comments = soup.select('#comment_focus > li > div > div > p')\n",
    "    for comment in comments:\n",
    "        comments_list.append(comment.text)\n",
    "    next_selector = '#cbox_module > div.cbox_paginate > a.N\\3d a\\3a CML\\2e page\\2c r\\3a {}'.format(page)\n",
    "    next_Button = driver.find_element_by_css_selector(next_selector)   \n",
    "    next_Button.click()  \n",
    "\n",
    "time.sleep(3)\n",
    "driver.quit()"
   ]
  },
  {
   "cell_type": "code",
   "execution_count": null,
   "metadata": {},
   "outputs": [],
   "source": [
    "from selenium.webdriver.common.by import By\n",
    "from selenium.webdriver.support.ui import WebDriverWait\n",
    "from selenium.webdriver.support import expected_conditions as EC\n",
    "from selenium.common.exceptions import TimeoutException\n",
    "\n",
    "chromedriver = 'C:/dev_python/Webdriver/chromedriver.exe' \n",
    "driver = webdriver.Chrome(chromedriver)\n",
    "\n",
    "i = 0\n",
    "url = 'http://music.naver.com/album/index.nhn?albumId={}'.format(album_df6.loc[i,'naver'])\n",
    "driver.get(url)\n",
    "\n",
    "count = 0\n",
    "try:\n",
    "    element = WebDriverWait(driver, 3).until(\n",
    "        EC.presence_of_element_located((By.ID, \"moreviewDIV\"))\n",
    "    )\n",
    "except TimeoutException:\n",
    "    print(\"관련 댓글이 더 없습니다.\")\n",
    "else:\n",
    "    loop = True\n",
    "    while loop and count < 1:\n",
    "        try:\n",
    "            element = WebDriverWait(driver, 1).until(\n",
    "                EC.presence_of_element_located((By.CSS_SELECTOR, \"#moreviewDIV\"))\n",
    "            )\n",
    "            more_button = driver.find_element_by_css_selector(\"#moreviewDIV > a\")\n",
    "            webdriver.ActionChains(driver).move_to_element(more_button).click(more_button).perform() \n",
    "            count += 1\n",
    "        except: \n",
    "            loop = False\n",
    "            \n",
    "#     title = driver.find_element_by_css_selector(\"#cSub > div.head_view > h3\")\n",
    "#     print('[',title.text, ']\\n')\n",
    "#     comment = driver.find_element_by_css_selector(\"#alex-area > div > div > div > div.cmt_box > ul.list_comment\")\n",
    "#     comment_list = comment.find_elements_by_tag_name('p')\n",
    "#     for num, p in enumerate(comment_list):\n",
    "#         print(num+1, ']', p.text, \"\\n\\n\")\n",
    "#         if num == 9:\n",
    "#             break\n",
    "    print(a)\n",
    "    break        \n",
    "driver.quit()"
   ]
  },
  {
   "cell_type": "code",
   "execution_count": null,
   "metadata": {
    "collapsed": true
   },
   "outputs": [],
   "source": []
  },
  {
   "cell_type": "markdown",
   "metadata": {},
   "source": [
    "+ melon"
   ]
  },
  {
   "cell_type": "code",
   "execution_count": 310,
   "metadata": {
    "collapsed": true
   },
   "outputs": [],
   "source": [
    "def mul_replace(comment):\n",
    "    a = re.sub(r'내용\\s', '', comment.text)\n",
    "    a = re.sub(r'\\s*재생 다운로드.*\\s*', '', a)\n",
    "    a = re.sub(r'\\s', '', a)\n",
    "    return a"
   ]
  },
  {
   "cell_type": "code",
   "execution_count": 311,
   "metadata": {
    "collapsed": true
   },
   "outputs": [
    {
     "ename": "TimeoutException",
     "evalue": "Message: timeout\n  (Session info: chrome=62.0.3202.94)\n  (Driver info: chromedriver=2.32.498550 (9dec58e66c31bcc53a9ce3c7226f0c1c5810906a),platform=Windows NT 10.0.16299 x86_64)\n",
     "output_type": "error",
     "traceback": [
      "\u001b[1;31m---------------------------------------------------------------------------\u001b[0m",
      "\u001b[1;31mTimeoutException\u001b[0m                          Traceback (most recent call last)",
      "\u001b[1;32m<ipython-input-311-3922b6309b0c>\u001b[0m in \u001b[0;36m<module>\u001b[1;34m()\u001b[0m\n\u001b[0;32m     17\u001b[0m     \u001b[1;32mfor\u001b[0m \u001b[0mj\u001b[0m \u001b[1;32min\u001b[0m \u001b[0mrange\u001b[0m\u001b[1;33m(\u001b[0m\u001b[1;36m2\u001b[0m\u001b[1;33m,\u001b[0m \u001b[0mint\u001b[0m\u001b[1;33m(\u001b[0m\u001b[0mre\u001b[0m\u001b[1;33m.\u001b[0m\u001b[0msub\u001b[0m\u001b[1;33m(\u001b[0m\u001b[1;34m','\u001b[0m\u001b[1;33m,\u001b[0m \u001b[1;34m''\u001b[0m\u001b[1;33m,\u001b[0m \u001b[0mcount\u001b[0m\u001b[1;33m[\u001b[0m\u001b[1;36m0\u001b[0m\u001b[1;33m]\u001b[0m\u001b[1;33m.\u001b[0m\u001b[0mtext\u001b[0m\u001b[1;33m)\u001b[0m\u001b[1;33m)\u001b[0m\u001b[1;33m//\u001b[0m\u001b[1;36m10\u001b[0m\u001b[1;33m+\u001b[0m\u001b[1;36m1\u001b[0m\u001b[1;33m)\u001b[0m\u001b[1;33m:\u001b[0m\u001b[1;33m\u001b[0m\u001b[0m\n\u001b[0;32m     18\u001b[0m         \u001b[0murl\u001b[0m \u001b[1;33m=\u001b[0m \u001b[1;34m'http://www.melon.com/album/detail.htm?albumId={}#cmtpgn=&pageNo={}&sortType=0&srchType=2&srchWord='\u001b[0m\u001b[1;33m.\u001b[0m\u001b[0mformat\u001b[0m\u001b[1;33m(\u001b[0m\u001b[0malbum_df7\u001b[0m\u001b[1;33m.\u001b[0m\u001b[0mloc\u001b[0m\u001b[1;33m[\u001b[0m\u001b[0mi\u001b[0m\u001b[1;33m,\u001b[0m\u001b[1;34m'melon'\u001b[0m\u001b[1;33m]\u001b[0m\u001b[1;33m,\u001b[0m \u001b[0mj\u001b[0m\u001b[1;33m)\u001b[0m\u001b[1;33m\u001b[0m\u001b[0m\n\u001b[1;32m---> 19\u001b[1;33m         \u001b[0mdriver\u001b[0m\u001b[1;33m.\u001b[0m\u001b[0mget\u001b[0m\u001b[1;33m(\u001b[0m\u001b[0murl\u001b[0m\u001b[1;33m)\u001b[0m\u001b[1;33m\u001b[0m\u001b[0m\n\u001b[0m\u001b[0;32m     20\u001b[0m         \u001b[0msoup\u001b[0m \u001b[1;33m=\u001b[0m \u001b[0mBeautifulSoup\u001b[0m\u001b[1;33m(\u001b[0m\u001b[0mdriver\u001b[0m\u001b[1;33m.\u001b[0m\u001b[0mpage_source\u001b[0m\u001b[1;33m,\u001b[0m \u001b[1;34m'html.parser'\u001b[0m\u001b[1;33m)\u001b[0m\u001b[1;33m\u001b[0m\u001b[0m\n\u001b[0;32m     21\u001b[0m \u001b[1;33m\u001b[0m\u001b[0m\n",
      "\u001b[1;32mC:\\ProgramData\\Anaconda3\\lib\\site-packages\\selenium\\webdriver\\remote\\webdriver.py\u001b[0m in \u001b[0;36mget\u001b[1;34m(self, url)\u001b[0m\n\u001b[0;32m    318\u001b[0m         \u001b[0mLoads\u001b[0m \u001b[0ma\u001b[0m \u001b[0mweb\u001b[0m \u001b[0mpage\u001b[0m \u001b[1;32min\u001b[0m \u001b[0mthe\u001b[0m \u001b[0mcurrent\u001b[0m \u001b[0mbrowser\u001b[0m \u001b[0msession\u001b[0m\u001b[1;33m.\u001b[0m\u001b[1;33m\u001b[0m\u001b[0m\n\u001b[0;32m    319\u001b[0m         \"\"\"\n\u001b[1;32m--> 320\u001b[1;33m         \u001b[0mself\u001b[0m\u001b[1;33m.\u001b[0m\u001b[0mexecute\u001b[0m\u001b[1;33m(\u001b[0m\u001b[0mCommand\u001b[0m\u001b[1;33m.\u001b[0m\u001b[0mGET\u001b[0m\u001b[1;33m,\u001b[0m \u001b[1;33m{\u001b[0m\u001b[1;34m'url'\u001b[0m\u001b[1;33m:\u001b[0m \u001b[0murl\u001b[0m\u001b[1;33m}\u001b[0m\u001b[1;33m)\u001b[0m\u001b[1;33m\u001b[0m\u001b[0m\n\u001b[0m\u001b[0;32m    321\u001b[0m \u001b[1;33m\u001b[0m\u001b[0m\n\u001b[0;32m    322\u001b[0m     \u001b[1;33m@\u001b[0m\u001b[0mproperty\u001b[0m\u001b[1;33m\u001b[0m\u001b[0m\n",
      "\u001b[1;32mC:\\ProgramData\\Anaconda3\\lib\\site-packages\\selenium\\webdriver\\remote\\webdriver.py\u001b[0m in \u001b[0;36mexecute\u001b[1;34m(self, driver_command, params)\u001b[0m\n\u001b[0;32m    306\u001b[0m         \u001b[0mresponse\u001b[0m \u001b[1;33m=\u001b[0m \u001b[0mself\u001b[0m\u001b[1;33m.\u001b[0m\u001b[0mcommand_executor\u001b[0m\u001b[1;33m.\u001b[0m\u001b[0mexecute\u001b[0m\u001b[1;33m(\u001b[0m\u001b[0mdriver_command\u001b[0m\u001b[1;33m,\u001b[0m \u001b[0mparams\u001b[0m\u001b[1;33m)\u001b[0m\u001b[1;33m\u001b[0m\u001b[0m\n\u001b[0;32m    307\u001b[0m         \u001b[1;32mif\u001b[0m \u001b[0mresponse\u001b[0m\u001b[1;33m:\u001b[0m\u001b[1;33m\u001b[0m\u001b[0m\n\u001b[1;32m--> 308\u001b[1;33m             \u001b[0mself\u001b[0m\u001b[1;33m.\u001b[0m\u001b[0merror_handler\u001b[0m\u001b[1;33m.\u001b[0m\u001b[0mcheck_response\u001b[0m\u001b[1;33m(\u001b[0m\u001b[0mresponse\u001b[0m\u001b[1;33m)\u001b[0m\u001b[1;33m\u001b[0m\u001b[0m\n\u001b[0m\u001b[0;32m    309\u001b[0m             response['value'] = self._unwrap_value(\n\u001b[0;32m    310\u001b[0m                 response.get('value', None))\n",
      "\u001b[1;32mC:\\ProgramData\\Anaconda3\\lib\\site-packages\\selenium\\webdriver\\remote\\errorhandler.py\u001b[0m in \u001b[0;36mcheck_response\u001b[1;34m(self, response)\u001b[0m\n\u001b[0;32m    192\u001b[0m         \u001b[1;32melif\u001b[0m \u001b[0mexception_class\u001b[0m \u001b[1;33m==\u001b[0m \u001b[0mUnexpectedAlertPresentException\u001b[0m \u001b[1;32mand\u001b[0m \u001b[1;34m'alert'\u001b[0m \u001b[1;32min\u001b[0m \u001b[0mvalue\u001b[0m\u001b[1;33m:\u001b[0m\u001b[1;33m\u001b[0m\u001b[0m\n\u001b[0;32m    193\u001b[0m             \u001b[1;32mraise\u001b[0m \u001b[0mexception_class\u001b[0m\u001b[1;33m(\u001b[0m\u001b[0mmessage\u001b[0m\u001b[1;33m,\u001b[0m \u001b[0mscreen\u001b[0m\u001b[1;33m,\u001b[0m \u001b[0mstacktrace\u001b[0m\u001b[1;33m,\u001b[0m \u001b[0mvalue\u001b[0m\u001b[1;33m[\u001b[0m\u001b[1;34m'alert'\u001b[0m\u001b[1;33m]\u001b[0m\u001b[1;33m.\u001b[0m\u001b[0mget\u001b[0m\u001b[1;33m(\u001b[0m\u001b[1;34m'text'\u001b[0m\u001b[1;33m)\u001b[0m\u001b[1;33m)\u001b[0m\u001b[1;33m\u001b[0m\u001b[0m\n\u001b[1;32m--> 194\u001b[1;33m         \u001b[1;32mraise\u001b[0m \u001b[0mexception_class\u001b[0m\u001b[1;33m(\u001b[0m\u001b[0mmessage\u001b[0m\u001b[1;33m,\u001b[0m \u001b[0mscreen\u001b[0m\u001b[1;33m,\u001b[0m \u001b[0mstacktrace\u001b[0m\u001b[1;33m)\u001b[0m\u001b[1;33m\u001b[0m\u001b[0m\n\u001b[0m\u001b[0;32m    195\u001b[0m \u001b[1;33m\u001b[0m\u001b[0m\n\u001b[0;32m    196\u001b[0m     \u001b[1;32mdef\u001b[0m \u001b[0m_value_or_default\u001b[0m\u001b[1;33m(\u001b[0m\u001b[0mself\u001b[0m\u001b[1;33m,\u001b[0m \u001b[0mobj\u001b[0m\u001b[1;33m,\u001b[0m \u001b[0mkey\u001b[0m\u001b[1;33m,\u001b[0m \u001b[0mdefault\u001b[0m\u001b[1;33m)\u001b[0m\u001b[1;33m:\u001b[0m\u001b[1;33m\u001b[0m\u001b[0m\n",
      "\u001b[1;31mTimeoutException\u001b[0m: Message: timeout\n  (Session info: chrome=62.0.3202.94)\n  (Driver info: chromedriver=2.32.498550 (9dec58e66c31bcc53a9ce3c7226f0c1c5810906a),platform=Windows NT 10.0.16299 x86_64)\n"
     ]
    }
   ],
   "source": [
    "chromedriver = 'C:/dev_python/Webdriver/chromedriver.exe' \n",
    "driver = webdriver.Chrome(chromedriver)\n",
    "\n",
    "melon_commend_list = [[] for i in range(len(album_df7))]\n",
    "\n",
    "for i in range(len(album_df7)):\n",
    "    url = 'http://www.melon.com/album/detail.htm?albumId={}'.format(album_df7.loc[i,'melon'])\n",
    "    driver.get(url)\n",
    "    soup = BeautifulSoup(driver.page_source, 'html.parser')\n",
    "\n",
    "    count = soup.select('#d_cmtpgn_cmt_count_wrapper > div > strong > span')\n",
    "    comments = soup.select('#d_cmtpgn_cmt_list_wrapper > ul > li > div > div.wrap_cntt.d_cmtpgn_cmt_cont_wrapper > div.cntt > div')\n",
    "    \n",
    "    for com in comments:\n",
    "        melon_commend_list[i].append(mul_replace(com))\n",
    "        \n",
    "    for j in range(2, int(re.sub(',', '', count[0].text))//10+1):\n",
    "        url = 'http://www.melon.com/album/detail.htm?albumId={}#cmtpgn=&pageNo={}&sortType=0&srchType=2&srchWord='.format(album_df7.loc[i,'melon'], j)\n",
    "        driver.get(url)\n",
    "        soup = BeautifulSoup(driver.page_source, 'html.parser')\n",
    "\n",
    "        count = soup.select('#d_cmtpgn_cmt_count_wrapper > div > strong > span')\n",
    "        comments = soup.select('#d_cmtpgn_cmt_list_wrapper > ul > li > div > div.wrap_cntt.d_cmtpgn_cmt_cont_wrapper > div.cntt > div')\n",
    "\n",
    "#         for com in comments:\n",
    "#             melon_commend_list.append(mul_replace(com))\n",
    "        for com in comments:\n",
    "            melon_commend_list[i].append(mul_replace(com))\n",
    "\n",
    "driver.quit()"
   ]
  },
  {
   "cell_type": "code",
   "execution_count": null,
   "metadata": {
    "collapsed": true
   },
   "outputs": [],
   "source": [
    "http://www.melon.com/album/detail.htm?albumId=10008861#cmtpgn=&pageNo=6476&sortType=0&srchType=2&srchWord="
   ]
  },
  {
   "cell_type": "code",
   "execution_count": 312,
   "metadata": {
    "collapsed": true
   },
   "outputs": [],
   "source": [
    "album_df7['melon_commend'] = melon_commend_list"
   ]
  },
  {
   "cell_type": "code",
   "execution_count": 322,
   "metadata": {},
   "outputs": [],
   "source": [
    "album_df7.to_csv('album_df7.csv', index=False, encoding='utf8')"
   ]
  },
  {
   "cell_type": "code",
   "execution_count": null,
   "metadata": {
    "collapsed": true
   },
   "outputs": [],
   "source": []
  }
 ],
 "metadata": {
  "kernelspec": {
   "display_name": "Python 3",
   "language": "python",
   "name": "python3"
  },
  "language_info": {
   "codemirror_mode": {
    "name": "ipython",
    "version": 3
   },
   "file_extension": ".py",
   "mimetype": "text/x-python",
   "name": "python",
   "nbconvert_exporter": "python",
   "pygments_lexer": "ipython3",
   "version": "3.6.2"
  }
 },
 "nbformat": 4,
 "nbformat_minor": 2
}
